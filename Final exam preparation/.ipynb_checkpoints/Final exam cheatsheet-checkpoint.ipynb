{
 "cells": [
  {
   "cell_type": "markdown",
   "metadata": {},
   "source": [
    "Final exam cheatsheet:\n",
    "+ Algorithms:\n",
    "    + Theory\n",
    "    + Searching\n",
    "    + Sorting\n",
    "        + Bubble, selection and insertion examples\n"
   ]
  },
  {
   "cell_type": "markdown",
   "metadata": {},
   "source": []
  },
  {
   "cell_type": "markdown",
   "metadata": {},
   "source": []
  },
  {
   "cell_type": "markdown",
   "metadata": {},
   "source": [
    "Algorithm for sorting an unordered list with bubble sort:"
   ]
  },
  {
   "cell_type": "code",
   "execution_count": 1,
   "metadata": {},
   "outputs": [
    {
     "name": "stdout",
     "output_type": "stream",
     "text": [
      "[1, 2, 3, 4, 6, 7, 9]\n"
     ]
    }
   ],
   "source": [
    "# Sort from bigger to smaller\n",
    "list_1 = [1,3,4,2,6,7,9]\n",
    "for i in range(len(list_1)-1):\n",
    "    for index in range(len(list_1)-2):\n",
    "        if list_1[index] > list_1[index + 1]:\n",
    "            list_1.insert(index + 1, list_1.pop(index))\n",
    "print(list_1)\n",
    "\n"
   ]
  },
  {
   "cell_type": "code",
   "execution_count": null,
   "metadata": {},
   "outputs": [],
   "source": []
  }
 ],
 "metadata": {
  "kernelspec": {
   "display_name": "Python 3 (ipykernel)",
   "language": "python",
   "name": "python3"
  },
  "language_info": {
   "codemirror_mode": {
    "name": "ipython",
    "version": 3
   },
   "file_extension": ".py",
   "mimetype": "text/x-python",
   "name": "python",
   "nbconvert_exporter": "python",
   "pygments_lexer": "ipython3",
   "version": "3.10.7"
  }
 },
 "nbformat": 4,
 "nbformat_minor": 1
}
