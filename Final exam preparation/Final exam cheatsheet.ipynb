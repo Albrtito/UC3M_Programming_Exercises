{
 "cells": [
  {
   "cell_type": "markdown",
   "source": [
    "# Final exam cheatsheet:\n",
    "+ import random\n",
    "+\n",
    "+ Simple data structures:\n",
    "    + List\n",
    "    + Dictionaries\n",
    "+ Object oriented programming\n",
    "    + Attribute declaration\n",
    "+ Algorithms:\n",
    "    + Theory\n",
    "    + Searching\n",
    "    + Sorting\n",
    "        + Bubble, selection and insertion examples\n",
    "- Exams of other years:\n",
    "\n"
   ],
   "metadata": {
    "collapsed": false
   }
  },
  {
   "cell_type": "markdown",
   "source": [
    "# Import random\n",
    "\n",
    "\n",
    "### random.randint([a,b])\n",
    "Both ints a and b are included in this selection\n",
    "\n",
    "# Import classes\n",
    "It is really important to import the class that`s being used in another file."
   ],
   "metadata": {
    "collapsed": false
   }
  },
  {
   "cell_type": "markdown",
   "source": [
    "# Simple data structures:\n",
    "## List\n",
    "\n",
    "### NOT for list inside list:\n",
    "list = [1,2,[3,4]]\n",
    "list[1] = 2\n",
    "list[2] = [3,4]\n",
    "list[2][1] = 4\n",
    "\n",
    "Creation of a list inside another list: This example has a range of 2 and 3: OUTPUT: [[1,2,3][1,2,3]]"
   ],
   "metadata": {
    "collapsed": false
   }
  },
  {
   "cell_type": "code",
   "execution_count": 2,
   "outputs": [
    {
     "name": "stdout",
     "output_type": "stream",
     "text": [
      "[[0, 1, 2], [0, 1, 2]]\n"
     ]
    }
   ],
   "source": [
    "list = []\n",
    "\n",
    "# Create List of list\n",
    "for i in range(2):\n",
    "    list.append([])\n",
    "    for j in range(3):\n",
    "        list[i].append(j)\n",
    "\n",
    "print(list)"
   ],
   "metadata": {
    "collapsed": false
   }
  },
  {
   "cell_type": "markdown",
   "source": [
    "\n",
    "\n",
    "### Methods:\n",
    "NOT: **list_name.method()**\n",
    "\n",
    "- **append(element) →** adds an element at the end of the list. It is much more efficient to use **list_name.append(element)** than **list_name = list_name + [element]**\n",
    "- **insert(index, element)**: inserts the element at the given position. If the position does not exist it will append it at the end. If you use a negative index, it will start counting from the end: **insert(-1, element)** is equivalent to append(element) -> **If inserting in a position, the element in that position goes to the right**\n",
    "- l**ist1.extend(list2)**: appends all the elements of list2 to list1. Equivalent to **list1= list1 + list2** but using the + sign is less efficient as a copy of both lists is created and\n",
    "assigned to list1\n",
    "- **index(element)**: returns the position of the element in the list. Error if the list does not\n",
    "contain the element (I should check first the element is in the list). If the element is repeated it returns the first position\n",
    "- **index(element, start, end)**: returns the position of the element in the sublist between\n",
    "start and end (not included). end is optional.\n",
    "- **count(element)**: returns the number of times the element is in list\n",
    "- **clear()**: removes all the elements of the list. The list will be the empty one. With the **del(list)** function you also remove the variable, here the variable exists\n",
    "- **remove(element)**: deletes the first appearance of the element in the list. If the element does\n",
    "not belong to the list, error. With **del(list([index])**, we remove giving the position, here\n",
    "we give the element\n",
    "- **pop()**: removes and returns the last element. The element should be stored in another\n",
    "variable.\n",
    "- **pop(index):** removes and returns the element at a given position. The element should be stored in another variable.\n",
    "- **reverse()**: reverses the list\n",
    "- **sort()**: sorts the list. It only works for lists made of similar elements (you cannot sort a list containing both string and numbers)\n",
    "\n",
    "### List functions instead of methods:\n"
   ],
   "metadata": {
    "collapsed": false
   }
  },
  {
   "cell_type": "code",
   "execution_count": null,
   "outputs": [],
   "source": [
    "# Compute the max value of a list: Returns the max value\n",
    "def my_max(list: list):\n",
    "    max_value = float(0)\n",
    "    for i in range(len(list)):\n",
    "        value = list[i]\n",
    "        if value >= max_value:\n",
    "            max_value = value\n",
    "    return max_value\n",
    "\n",
    "# Compute the  min value of a list: Returns the min value\n",
    "def my_min(list: list):\n",
    "    min_value = list[0]\n",
    "    for i in range(len(list)):\n",
    "        value = list[i]\n",
    "        if value < min_value:\n",
    "            min_value = value\n",
    "    return min_value\n",
    "\n",
    "\n"
   ],
   "metadata": {
    "collapsed": false
   }
  },
  {
   "cell_type": "markdown",
   "source": [
    "## Dictionaries\n",
    "### Methods\n",
    "\n",
    "| NOT | CODE | DEF |\n",
    "| --- | --- | --- |\n",
    "| in → keys | print(”name” in person) → returns true | Bool function returns true when the value asked for is in the dicctionary |\n",
    "| len(dic) | print(len(person)) | Returns an int of the len of the dicctionary  |\n",
    "| . clear () | print(person.clear()) |  |\n",
    "| . get(Key) | print(person.get(”surname)) |  |\n",
    "| . Keys() | keys_of_dic = list(person.keys()) | prints the values  |\n",
    "| .values() | val = list(person.values()) | prints the values of the dictionary(the value for name can be Paco), no order. IS A LIST |\n",
    "| .items() | it = list(person.items()) | prints touples, each touple contains the key and the value, no order. IS A LIST OF TOUPLES |\n",
    "| .copy() | dict = person.compy() | Makes a shallow copy. We cant deep copy in dictionaries  |\n",
    "| .pop(key) | marks = person.pop(”marks”) | Takes the value of a key and saves it into a variables (marks in this case). Removes the key and the value from the dictionary |\n",
    "| .update(dic) | person.update(dic2) | Updates a dictionary respect anohter dictionary. It adds the values of the dictionary in parenthesis to the first . NGD |"
   ],
   "metadata": {
    "collapsed": false
   }
  },
  {
   "cell_type": "markdown",
   "source": [
    "# Object Oriented programming:\n",
    "\n",
    "## Attribute declaration: (read only, private, etc...)\n",
    "\n",
    "\n",
    "\n",
    "### \"Normal attributes\" -> They can be changed and read from outside (have property and setter)\n",
    "\n",
    "\n",
    "- When it is used as a parameter tu call the class"
   ],
   "metadata": {
    "collapsed": false
   }
  },
  {
   "cell_type": "code",
   "execution_count": null,
   "outputs": [],
   "source": [
    "class Test:\n",
    "    # When the class Test is called, a parameter will be given for it\n",
    "    def __init__(self, var_1: int):\n",
    "        # The parameter is turned into a variable in the class\n",
    "        self.var_1 = var_1\n",
    "\n",
    "    # We create a property and a setter, the variable is now a parameter and can be read and changed\n",
    "    @property\n",
    "    def var_1(self):\n",
    "        return self.__var_1\n",
    "\n",
    "    @var_1.setter\n",
    "    def var_1(self, var_1):\n",
    "        # If the value given to the attribute is not of type int, we raise an error, if else, the value can be changed\n",
    "        if type(var_1) != int:\n",
    "            raise TypeError(\"param_1 must be of type int\")\n",
    "        else:\n",
    "            self.__var_1 = var_1"
   ],
   "metadata": {
    "collapsed": false
   }
  },
  {
   "cell_type": "markdown",
   "source": [
    "### Read - only attributes: They can be read from outside but not changed. No declaration in innit.\n",
    "\n",
    "- When it **can be computed from other parameters in the class or is constant**"
   ],
   "metadata": {
    "collapsed": false
   }
  },
  {
   "cell_type": "code",
   "execution_count": 1,
   "outputs": [],
   "source": [
    "# The property var_2 does not have a self.var_2 declaration. It is only declared as a property. This example also applies for constants\n",
    "class Test:\n",
    "    # When the class Test is called, a parameter will be given for it\n",
    "    def __init__(self, var_1: int):\n",
    "        # The parameter is turned into a variable in the class\n",
    "        self.var_1 = var_1\n",
    "\n",
    "    # We create a property and a setter, the variable is now a parameter and can be read and changed\n",
    "    @property\n",
    "    def var_1(self):\n",
    "        return self.__var_1\n",
    "\n",
    "    @var_1.setter\n",
    "    def var_1(self, var_1):\n",
    "        # If the value given to the attribute is not of type int, we raise an error, if else, the value can be changed\n",
    "        if type(var_1) != int:\n",
    "            raise TypeError(\"param_1 must be of type int\")\n",
    "        else:\n",
    "            self.__var_1 = var_1\n",
    "\n",
    "\n",
    "    \"\"\" Changes here: The property var_2 is constantly the double of the var_1 property \"\"\"\n",
    "    @property\n",
    "    def var_2(self):\n",
    "        return self.var_1 * 2\n"
   ],
   "metadata": {
    "collapsed": false
   }
  },
  {
   "cell_type": "markdown",
   "source": [
    "### Private attributes: They are only going to be used inside the class they are declared with two underscores before them.\n",
    "- They can be given in the __innit__ method as a parameter to give when declaring a class but then only used privately"
   ],
   "metadata": {
    "collapsed": false
   }
  },
  {
   "cell_type": "code",
   "execution_count": null,
   "outputs": [],
   "source": [
    "# The property var_3 is only declared in the innit method and is private, so only methods inside the class see it\n",
    "class Test:\n",
    "    # When the class Test is called, a parameter will be given for it\n",
    "    def __init__(self, var_1: int):\n",
    "        # The parameter is turned into a variable in the class\n",
    "        self.var_1 = var_1\n",
    "        # In this case I could maybe use it as a constant\n",
    "        self.__var_3 = 5\n",
    "\n",
    "    # We create a property and a setter, the variable is now a parameter and can be read and changed\n",
    "    @property\n",
    "    def var_1(self):\n",
    "        return self.__var_1\n",
    "\n",
    "    @var_1.setter\n",
    "    def var_1(self, var_1):\n",
    "        # If the value given to the attribute is not of type int, we raise an error, if else, the value can be changed\n",
    "        if type(var_1) != int:\n",
    "            raise TypeError(\"param_1 must be of type int\")\n",
    "        else:\n",
    "            self.__var_1 = var_1\n",
    "\n",
    "\n",
    "    \"\"\" Changes here: The property var_2 is constantly the double of the var_1 property \"\"\"\n",
    "    @property\n",
    "    def var_2(self):\n",
    "        return self.var_1 * 2"
   ],
   "metadata": {
    "collapsed": false
   }
  },
  {
   "cell_type": "markdown",
   "source": [
    "## Magic methods:\n",
    "All magic methods are written with two underscores before and after the name:\n",
    "\n",
    "\n",
    "### __str__(self)"
   ],
   "metadata": {
    "collapsed": false
   }
  },
  {
   "cell_type": "code",
   "execution_count": null,
   "outputs": [],
   "source": [
    "def __str__(self):\n",
    "    \"\"\"This method is invoked if I print the object. It must\n",
    "    be called like this, no changes in name, no extra parameters.\n",
    "    It must return the string I want to be shown when printing\n",
    "\n",
    "    In order to return strings use: str() , \"\", + .\"\"\"\n",
    "    return \"someString\""
   ],
   "metadata": {
    "collapsed": false
   }
  },
  {
   "cell_type": "markdown",
   "source": [
    "### __repr__(self)"
   ],
   "metadata": {
    "collapsed": false
   }
  },
  {
   "cell_type": "code",
   "execution_count": null,
   "outputs": [],
   "source": [
    "def __repr__(self):\n",
    "    \"\"\"This method is invoked if I write the name of the object in\n",
    "    the interpreter. It must\n",
    "    15\n",
    "    be called like this, no changes in name, no extra parameters.\n",
    "    It must return the string I want to be shown\"\"\"\n",
    "    # I just invoke the str\n",
    "    return self.__str__()\n"
   ],
   "metadata": {
    "collapsed": false
   }
  },
  {
   "cell_type": "markdown",
   "source": [
    "### __eq__(self)"
   ],
   "metadata": {
    "collapsed": false
   }
  },
  {
   "cell_type": "code",
   "execution_count": null,
   "outputs": [],
   "source": [
    "def __eq__(self, another):\n",
    "    \"\"\" This is the method Python will invoke if I try to compare\n",
    "    two Date objects. In addition to self it must receive the other\n",
    "    object. It must return true or false\"\"\"\n",
    "    # Instead of creating a local variable we directly return the\n",
    "    # result of the calculation\n",
    "    # Two dates are equal if the values of all their attributes are\n",
    "    # equal\n",
    "\n",
    "    # This return is a BOOL\n",
    "    return (self.var_1 == another.var_1\n",
    "            and self.var_2 == another.var_2)\n"
   ],
   "metadata": {
    "collapsed": false
   }
  },
  {
   "cell_type": "markdown",
   "source": [],
   "metadata": {
    "collapsed": false
   }
  },
  {
   "cell_type": "markdown",
   "metadata": {},
   "source": [
    "# Algorithms:"
   ]
  },
  {
   "cell_type": "markdown",
   "source": [
    "The big O notation represents the worst-case complexity of an algorithm.\n",
    "Defines the runtime required to execute an algorithm by identifying how the performance of the algorithm changes when the input size grows."
   ],
   "metadata": {
    "collapsed": false
   }
  },
  {
   "cell_type": "markdown",
   "source": [
    "## Searching\n",
    "### Linear search:\n",
    "Go through the list and find the element you are looking for:\n",
    "+ list is not sorted\n",
    "+ complexity of O(n)\n",
    "### Binary search:\n",
    "Go from the middle of the list towards the outer sides, choose one half of the list\n",
    "+ complexity is less: of O(log n) -> reduced by half\n",
    "+ The list has to be sorted in order to decide side"
   ],
   "metadata": {
    "collapsed": false
   }
  },
  {
   "cell_type": "markdown",
   "metadata": {},
   "source": [
    "## Sorting\n",
    "Simple sorting methods: All of the ones used here have a complexity of O(n^2)\n",
    "### Bubble sort: (the slowest one)\n",
    "Use a loop: Compare pairs of elements and change their position based on the sorting rule.\n",
    "\n",
    "Algorithm for sorting with bubble sort:"
   ]
  },
  {
   "cell_type": "code",
   "execution_count": 1,
   "metadata": {},
   "outputs": [
    {
     "name": "stdout",
     "output_type": "stream",
     "text": [
      "[1, 2, 3, 4, 6, 7, 9]\n"
     ]
    }
   ],
   "source": [
    "# Sort from bigger to smaller\n",
    "list_1 = [1,3,4,2,6,7,9]\n",
    "for i in range(len(list_1)-1):\n",
    "    for index in range(len(list_1)-2):\n",
    "        if list_1[index] > list_1[index + 1]:\n",
    "            list_1.insert(index + 1, list_1.pop(index))\n",
    "print(list_1)\n",
    "\n"
   ]
  },
  {
   "cell_type": "markdown",
   "source": [
    "### Selection sort: (fastest of the three)\n",
    "Select the firs/last element of the desired list (given the rule), change that element to the first position. Do the same with every element.\n",
    "\n",
    "Algorithm for sorting using selection sort:"
   ],
   "metadata": {
    "collapsed": false
   }
  },
  {
   "cell_type": "code",
   "execution_count": 12,
   "outputs": [
    {
     "name": "stdout",
     "output_type": "stream",
     "text": [
      "[1, 2, 3, 4, 6, 7, 9]\n"
     ]
    }
   ],
   "source": [
    "# Sort from bigger to smaller -> Rule is that the next element is smaller than the last one\n",
    "list_1 = [1,3,4,2,6,7,9]\n",
    "\n",
    "# Iterate for every position that we are going to insert\n",
    "for position_index in range(len(list_1)-1):\n",
    "    # We start by assuming the position we are going to change has the max value. We are working with indexes not values!!\n",
    "    max_index = position_index\n",
    "\n",
    "    # Check for every value in the interval from the position checking to the end of the list for a max number\n",
    "    for check_index in range(position_index,len(list_1)):\n",
    "        # If a position has a greater number, we take that position as the one to pop.\n",
    "        if list_1[check_index] > list_1[max_index]: # A change in the equality here goes big - small or small - big\n",
    "            max_index = check_index\n",
    "    # We pop the position with the greater number and insert it in the right place.\n",
    "    list_1.insert(position_index,list_1.pop(max_index))\n",
    "\n",
    "print(list_1)"
   ],
   "metadata": {
    "collapsed": false
   }
  },
  {
   "cell_type": "markdown",
   "source": [
    "### Insertion sort\n",
    "+ The only one with external sorting -> It needs an external list\n",
    "We use another list, we add there the first element of our list. Then we keep adding elements, when we add an element, we compare it with the last element of the list and add it left or right of it. If we add it towards the side with more elements, we compare to all elements of that side until it sticks to a position\n",
    "\n",
    "Algorithm for sorting using insertion sort:\n"
   ],
   "metadata": {
    "collapsed": false
   }
  },
  {
   "cell_type": "code",
   "execution_count": null,
   "outputs": [],
   "source": [
    "# Sort from bigger to smaller -> Rule is that the next element is smaller than the last one\n",
    "list_1 = [1,3,4,2,6,7,9]\n",
    "result = []\n",
    "for insert_index in range(len(list_1)-1):\n",
    "    result.insert(insert_index,list_1[insert_index])\n",
    "    for index in range(len(list_1)-1):\n",
    "        \n",
    "\n"
   ],
   "metadata": {
    "collapsed": false
   }
  },
  {
   "cell_type": "markdown",
   "source": [
    "# Last year`s exams:\n",
    "\n",
    "\n",
    "### Creating a matrix and giving it values: Map matrix from January 19-20\n",
    "- This works just try not to make rows or columns equal to 1. The minus one kind of makes all go haywire\n",
    "- Because our matrix has a lot of zeroes, add an if statement declaring that any zero shouldn´t be taken into consideration"
   ],
   "metadata": {
    "collapsed": false
   }
  },
  {
   "cell_type": "code",
   "execution_count": null,
   "outputs": [],
   "source": [
    "# The second rule looks something like this:\n",
    "rows = 2\n",
    "columns = 2\n",
    "list = []\n",
    "for i in range(rows):\n",
    "    for y in range(columns):\n",
    "        # CHECK THAT THE VALUES ARE NOT 0\n",
    "        if list[i][y] != 0:\n",
    "            ..."
   ],
   "metadata": {
    "collapsed": false
   }
  },
  {
   "cell_type": "code",
   "execution_count": 3,
   "outputs": [
    {
     "name": "stdout",
     "output_type": "stream",
     "text": [
      "[['s', 's', 'h1', 's'], ['s', 'Wh0', 'h0', 's']]\n"
     ]
    }
   ],
   "source": [
    "   import random\n",
    "list = []\n",
    "name = \"Wh0\"\n",
    "rows = 2\n",
    "columns = 4\n",
    "h_number = 2\n",
    "\n",
    "\n",
    "def create_map_matrix(matrix, warehouse_name: str, rows: int, columns: int, house_number: int):\n",
    "    # Create a blank matrix with the right magnitude\n",
    "    for x in range(rows):\n",
    "        matrix.append([])\n",
    "        for y in range(columns):\n",
    "            matrix[x].append(0)\n",
    "\n",
    "    # We first create a random position for the warehouse:\n",
    "    warehouse_x = random.randint(0, rows-1)\n",
    "    warehouse_y = random.randint(0, columns-1)\n",
    "    matrix[warehouse_x][warehouse_y] = warehouse_name\n",
    "    # Create random positions for the houses: If a position is already occupied look for another position\n",
    "    for i in range(house_number):\n",
    "        random_x = random.randint(0, rows-1)\n",
    "        random_y = random.randint(0, columns-1)\n",
    "        while matrix[random_x][random_y] != 0:\n",
    "            random_x = random.randint(1, rows-1)\n",
    "            random_y = random.randint(1, columns-1)\n",
    "        matrix[random_x][random_y] = f\"h{i}\"\n",
    "    # fill the rest of the positions with streets\n",
    "    for x in range(rows):\n",
    "        for y in range(columns):\n",
    "            if matrix[x][y] == 0:\n",
    "                matrix[x][y] = \"s\"\n",
    "\n",
    "\n",
    "create_map_matrix(list,name,rows,columns,h_number)\n",
    "print(list)"
   ],
   "metadata": {
    "collapsed": false
   }
  },
  {
   "cell_type": "markdown",
   "source": [
    "### Careful, in order to add values at a given matrix: The matrix is going to be entirely used, first create the matrix: If else consider using the insertion of different list\n"
   ],
   "metadata": {
    "collapsed": false
   }
  },
  {
   "cell_type": "code",
   "execution_count": null,
   "outputs": [],
   "source": [
    "    \"\"\"\n",
    "    The streets creation matrix for the snowplowing:\n",
    "    \"\"\"\n",
    "\n",
    "    def create_streets(self):\n",
    "        \"\"\"Create horizontal and vertical streets\"\"\"\n",
    "        # create a list to then turn into a tuple\n",
    "        streets = []\n",
    "        # Create a blank matrix with the right magnitude\n",
    "        for x in range(self.height):\n",
    "            streets.append([])\n",
    "            for y in range(self.width):\n",
    "                streets[x].append(0)\n",
    "        # create horizontal streets\n",
    "        for i in range(self.height):\n",
    "            random_lenght = random.randint(5, self.height)\n",
    "            random_temperature = random.randint(-5, 4)\n",
    "            streets[0][i] = Street(\"H\", 0, i, random_temperature, random_lenght)\n",
    "        # create vertical streets\n",
    "        for i in range(self.width):\n",
    "            random_lenght = random.randint(5, self.width)\n",
    "            random_temperature = random.randint(-5, 4)\n",
    "            streets[i][0] = Street(\"V\", i, 0, random_temperature, random_lenght)\n",
    "        # Set the street tuple\n",
    "        self.streets = tuple(streets)"
   ],
   "metadata": {
    "collapsed": false
   }
  }
 ],
 "metadata": {
  "kernelspec": {
   "display_name": "Python 3 (ipykernel)",
   "language": "python",
   "name": "python3"
  },
  "language_info": {
   "codemirror_mode": {
    "name": "ipython",
    "version": 3
   },
   "file_extension": ".py",
   "mimetype": "text/x-python",
   "name": "python",
   "nbconvert_exporter": "python",
   "pygments_lexer": "ipython3",
   "version": "3.10.7"
  }
 },
 "nbformat": 4,
 "nbformat_minor": 1
}
